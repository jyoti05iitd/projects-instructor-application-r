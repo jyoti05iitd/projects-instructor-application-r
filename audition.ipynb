{
 "cells": [
  {
   "cell_type": "markdown",
   "metadata": {},
   "source": [
    "# Project information\n",
    "## Project title: Attrition Analysis of HR Data\n",
    "\n",
    "### Name: Jyoti Kumar\n",
    "\n",
    "### Email address associated with your DataCamp account: jyotihajipur@gmail.com"
   ]
  },
  {
   "cell_type": "markdown",
   "metadata": {},
   "source": [
    "## Project description\n",
    "\n",
    "Attrition is a big problem for many organizations. Organizations hire people through different sources and train them for the job. When an employee leaves the organization it is a big loss as they have to start the hiring process again. In this project we would analyse a HR dataset to find the attrition percentage by Department and Employee Source. We will calculate the average number of active employees for a period and number of employees left in the period to calculate attrition. We would find which Department has highest attrition percentage and which Employee Source contribute more to attrition. Such analysis helps in improving the work culture in the Department with highest attrition and chosing the right source for hiring.\n",
    "\n",
    "To complete this project, students should be familiar with **dplyr, ggplot2, forcats and basic date functions.** The students should be familiar with dplyr verbs: select, filter, mutate, group_by and summarise. We recommend completing the course of [Introcution to the Tidyverse.](https://www.datacamp.com/courses/introduction-to-the-tidyverse).\n",
    "\n",
    "The dataset used in this project is taken from [Kaggle](https://www.kaggle.com/rhuebner/human-resources-data-set). The **core_dataset.csv file** is used in the project."
   ]
  },
  {
   "cell_type": "markdown",
   "metadata": {},
   "source": [
    "## Project introduction"
   ]
  },
  {
   "cell_type": "markdown",
   "metadata": {},
   "source": [
    "### 1. Loading the required libraries and the dataset\n",
    "We will load the **tidyverse** library and the file core_datset.csv"
   ]
  },
  {
   "cell_type": "code",
   "execution_count": 8,
   "metadata": {},
   "outputs": [
    {
     "name": "stdout",
     "output_type": "stream",
     "text": [
      "'data.frame':\t302 obs. of  21 variables:\n",
      " $ Employee.Name      : Factor w/ 302 levels \"\",\"Adinolfi, Wilson  K\",..: 30 154 264 128 251 255 158 223 26 90 ...\n",
      " $ Employee.Number    : int  1103024456 1106026572 1302053333 1211050782 1307059817 711007713 1102024115 1206043417 1307060188 1201031308 ...\n",
      " $ State              : Factor w/ 29 levels \"\",\"AL\",\"AZ\",\"CA\",..: 12 12 12 12 12 12 12 12 12 12 ...\n",
      " $ Zip                : num  1450 1460 2703 2170 2330 ...\n",
      " $ DOB                : Factor w/ 299 levels \"\",\"1/12/1973\",..: 53 145 268 276 166 200 196 60 150 135 ...\n",
      " $ Age                : int  32 33 31 32 29 30 33 33 30 38 ...\n",
      " $ Sex                : Factor w/ 4 levels \"\",\"Female\",\"male\",..: 2 4 4 2 2 2 4 4 2 2 ...\n",
      " $ MaritalDesc        : Factor w/ 6 levels \"\",\"Divorced\",..: 3 2 5 3 5 3 3 3 3 3 ...\n",
      " $ CitizenDesc        : Factor w/ 4 levels \"\",\"Eligible NonCitizen\",..: 4 4 4 4 4 4 4 2 4 4 ...\n",
      " $ Hispanic.Latino    : Factor w/ 5 levels \"\",\"no\",\"No\",\"yes\",..: 3 3 3 3 3 3 3 3 3 2 ...\n",
      " $ RaceDesc           : Factor w/ 7 levels \"\",\"American Indian or Alaska Native\",..: 4 4 7 7 7 3 7 4 3 7 ...\n",
      " $ Date.of.Hire       : Factor w/ 94 levels \"\",\"1/10/2011\",..: 19 10 90 29 48 88 9 33 29 6 ...\n",
      " $ Date.of.Termination: Factor w/ 94 levels \"\",\"1/11/2014\",..: 1 1 1 39 1 85 1 71 1 1 ...\n",
      " $ Reason.For.Term    : Factor w/ 18 levels \"\",\"Another position\",..: 12 12 12 12 12 4 12 4 12 12 ...\n",
      " $ Employment.Status  : Factor w/ 6 levels \"\",\"Active\",\"Future Start\",..: 2 2 2 2 2 6 2 6 2 2 ...\n",
      " $ Department         : Factor w/ 8 levels \"\",\"Admin Offices\",..: 2 2 2 2 2 2 2 2 2 2 ...\n",
      " $ Position           : Factor w/ 25 levels \"\",\"Accountant I\",..: 2 2 2 3 3 3 20 20 23 23 ...\n",
      " $ Pay.Rate           : num  28.5 23 29 21.5 16.6 ...\n",
      " $ Manager.Name       : Factor w/ 21 levels \"\",\"Alex Sweetwater\",..: 5 5 5 5 5 5 11 11 5 4 ...\n",
      " $ Employee.Source    : Factor w/ 23 levels \"\",\"Billboard\",..: 5 22 9 17 22 5 11 5 5 15 ...\n",
      " $ Performance.Score  : Factor w/ 8 levels \"\",\"90-day meets\",..: 5 5 5 6 6 5 5 5 2 5 ...\n",
      "'data.frame':\t302 obs. of  21 variables:\n",
      " $ Employee.Name      : chr  \"Brown, Mia\" \"LaRotonda, William  \" \"Steans, Tyrone  \" \"Howard, Estelle\" ...\n",
      " $ Employee.Number    : int  1103024456 1106026572 1302053333 1211050782 1307059817 711007713 1102024115 1206043417 1307060188 1201031308 ...\n",
      " $ State              : chr  \"MA\" \"MA\" \"MA\" \"MA\" ...\n",
      " $ Zip                : num  1450 1460 2703 2170 2330 ...\n",
      " $ DOB                : chr  \"11/24/1985\" \"4/26/1984\" \"9/1/1986\" \"9/16/1985\" ...\n",
      " $ Age                : int  32 33 31 32 29 30 33 33 30 38 ...\n",
      " $ Sex                : chr  \"Female\" \"Male\" \"Male\" \"Female\" ...\n",
      " $ MaritalDesc        : chr  \"Married\" \"Divorced\" \"Single\" \"Married\" ...\n",
      " $ CitizenDesc        : chr  \"US Citizen\" \"US Citizen\" \"US Citizen\" \"US Citizen\" ...\n",
      " $ Hispanic.Latino    : chr  \"No\" \"No\" \"No\" \"No\" ...\n",
      " $ RaceDesc           : chr  \"Black or African American\" \"Black or African American\" \"White\" \"White\" ...\n",
      " $ Date.of.Hire       : chr  \"10/27/2008\" \"1/6/2014\" \"9/29/2014\" \"2/16/2015\" ...\n",
      " $ Date.of.Termination: chr  \"\" \"\" \"\" \"4/15/2015\" ...\n",
      " $ Reason.For.Term    : chr  \"N/A - still employed\" \"N/A - still employed\" \"N/A - still employed\" \"N/A - still employed\" ...\n",
      " $ Employment.Status  : chr  \"Active\" \"Active\" \"Active\" \"Active\" ...\n",
      " $ Department         : chr  \"Admin Offices\" \"Admin Offices\" \"Admin Offices\" \"Admin Offices\" ...\n",
      " $ Position           : chr  \"Accountant I\" \"Accountant I\" \"Accountant I\" \"Administrative Assistant\" ...\n",
      " $ Pay.Rate           : num  28.5 23 29 21.5 16.6 ...\n",
      " $ Manager.Name       : chr  \"Brandon R. LeBlanc\" \"Brandon R. LeBlanc\" \"Brandon R. LeBlanc\" \"Brandon R. LeBlanc\" ...\n",
      " $ Employee.Source    : chr  \"Diversity Job Fair\" \"Website Banner Ads\" \"Internet Search\" \"Pay Per Click - Google\" ...\n",
      " $ Performance.Score  : chr  \"Fully Meets\" \"Fully Meets\" \"Fully Meets\" \"N/A- too early to review\" ...\n"
     ]
    }
   ],
   "source": [
    "# load the required library\n",
    "library(tidyverse)\n",
    "\n",
    "# read the csv file and name it as data\n",
    "data <- read.csv(\"core_dataset.csv\")\n",
    "\n",
    "# explore the structure of the data\n",
    "str(data)\n",
    "\n",
    "# observe that the date columns DOB, Date.of.Hire and Date.of.Termination have been loaded as factors\n",
    "# load the files again so that strings are not converted to factors by default\n",
    "data <- read.csv(\"core_dataset.csv\", stringsAsFactors=FALSE)\n",
    "\n",
    "# check the structure again\n",
    "str(data)"
   ]
  },
  {
   "cell_type": "markdown",
   "metadata": {},
   "source": [
    "### 2. Changing the type of DOB, Date.of.Hire and Date.of.Termination to Date\n",
    "Now we will change the type of the DOB, Date.of.Hire and Date.of.Termination columns to Date. We will specify the format arguement for proper conversion."
   ]
  },
  {
   "cell_type": "code",
   "execution_count": 9,
   "metadata": {},
   "outputs": [
    {
     "name": "stdout",
     "output_type": "stream",
     "text": [
      "'data.frame':\t302 obs. of  21 variables:\n",
      " $ Employee.Name      : chr  \"Brown, Mia\" \"LaRotonda, William  \" \"Steans, Tyrone  \" \"Howard, Estelle\" ...\n",
      " $ Employee.Number    : int  1103024456 1106026572 1302053333 1211050782 1307059817 711007713 1102024115 1206043417 1307060188 1201031308 ...\n",
      " $ State              : chr  \"MA\" \"MA\" \"MA\" \"MA\" ...\n",
      " $ Zip                : num  1450 1460 2703 2170 2330 ...\n",
      " $ DOB                : Date, format: \"1985-11-24\" \"1984-04-26\" ...\n",
      " $ Age                : int  32 33 31 32 29 30 33 33 30 38 ...\n",
      " $ Sex                : chr  \"Female\" \"Male\" \"Male\" \"Female\" ...\n",
      " $ MaritalDesc        : chr  \"Married\" \"Divorced\" \"Single\" \"Married\" ...\n",
      " $ CitizenDesc        : chr  \"US Citizen\" \"US Citizen\" \"US Citizen\" \"US Citizen\" ...\n",
      " $ Hispanic.Latino    : chr  \"No\" \"No\" \"No\" \"No\" ...\n",
      " $ RaceDesc           : chr  \"Black or African American\" \"Black or African American\" \"White\" \"White\" ...\n",
      " $ Date.of.Hire       : Date, format: \"2008-10-27\" \"2014-01-06\" ...\n",
      " $ Date.of.Termination: Date, format: NA NA ...\n",
      " $ Reason.For.Term    : chr  \"N/A - still employed\" \"N/A - still employed\" \"N/A - still employed\" \"N/A - still employed\" ...\n",
      " $ Employment.Status  : chr  \"Active\" \"Active\" \"Active\" \"Active\" ...\n",
      " $ Department         : chr  \"Admin Offices\" \"Admin Offices\" \"Admin Offices\" \"Admin Offices\" ...\n",
      " $ Position           : chr  \"Accountant I\" \"Accountant I\" \"Accountant I\" \"Administrative Assistant\" ...\n",
      " $ Pay.Rate           : num  28.5 23 29 21.5 16.6 ...\n",
      " $ Manager.Name       : chr  \"Brandon R. LeBlanc\" \"Brandon R. LeBlanc\" \"Brandon R. LeBlanc\" \"Brandon R. LeBlanc\" ...\n",
      " $ Employee.Source    : chr  \"Diversity Job Fair\" \"Website Banner Ads\" \"Internet Search\" \"Pay Per Click - Google\" ...\n",
      " $ Performance.Score  : chr  \"Fully Meets\" \"Fully Meets\" \"Fully Meets\" \"N/A- too early to review\" ...\n"
     ]
    }
   ],
   "source": [
    "# Change the format of DOB column to Date\n",
    "data$DOB <- as.Date(data$DOB, format = \"%m/%d/%Y\")\n",
    "\n",
    "# Change the format of Date.of.Hire column to Date\n",
    "data$Date.of.Hire <- as.Date(data$Date.of.Hire, format = \"%m/%d/%Y\")\n",
    "\n",
    "# Change the format of Date.of.Termination column to Date\n",
    "data$Date.of.Termination <- as.Date(data$Date.of.Termination, format = \"%m/%d/%Y\")\n",
    "\n",
    "# check the structure again\n",
    "str(data)"
   ]
  },
  {
   "cell_type": "markdown",
   "metadata": {},
   "source": [
    "### 3. Selecting a few columns from the dataframe required for analysis\n",
    "Next we will select a few columns required for calculating employee count.\n",
    "\n",
    "Then we will select a period for analysis and create columns with employee status in the selected dataframe."
   ]
  },
  {
   "cell_type": "code",
   "execution_count": 10,
   "metadata": {},
   "outputs": [
    {
     "data": {
      "text/html": [
       "<table>\n",
       "<thead><tr><th scope=col>Employee.Number</th><th scope=col>Date.of.Hire</th><th scope=col>Date.of.Termination</th><th scope=col>Department</th><th scope=col>Employee.Source</th><th scope=col>emp_status1</th><th scope=col>emp_act1</th><th scope=col>emp_status2</th><th scope=col>emp_act2</th><th scope=col>emp_left</th></tr></thead>\n",
       "<tbody>\n",
       "\t<tr><td>1103024456            </td><td>2008-10-27            </td><td>NA                    </td><td>Admin Offices         </td><td>Diversity Job Fair    </td><td> TRUE                 </td><td>1                     </td><td> TRUE                 </td><td>1                     </td><td>NA                    </td></tr>\n",
       "\t<tr><td>1106026572            </td><td>2014-01-06            </td><td>NA                    </td><td>Admin Offices         </td><td>Website Banner Ads    </td><td> TRUE                 </td><td>1                     </td><td> TRUE                 </td><td>1                     </td><td>NA                    </td></tr>\n",
       "\t<tr><td>1302053333            </td><td>2014-09-29            </td><td>NA                    </td><td>Admin Offices         </td><td>Internet Search       </td><td> TRUE                 </td><td>1                     </td><td> TRUE                 </td><td>1                     </td><td>NA                    </td></tr>\n",
       "\t<tr><td>1211050782            </td><td>2015-02-16            </td><td>2015-04-15            </td><td>Admin Offices         </td><td>Pay Per Click - Google</td><td> TRUE                 </td><td>0                     </td><td>FALSE                 </td><td>0                     </td><td> 1                    </td></tr>\n",
       "\t<tr><td>1307059817            </td><td>2015-05-01            </td><td>NA                    </td><td>Admin Offices         </td><td>Website Banner Ads    </td><td> TRUE                 </td><td>0                     </td><td> TRUE                 </td><td>1                     </td><td>NA                    </td></tr>\n",
       "\t<tr><td> 711007713            </td><td>2011-09-26            </td><td>2013-09-25            </td><td>Admin Offices         </td><td>Diversity Job Fair    </td><td>FALSE                 </td><td>0                     </td><td>FALSE                 </td><td>0                     </td><td> 0                    </td></tr>\n",
       "</tbody>\n",
       "</table>\n"
      ],
      "text/latex": [
       "\\begin{tabular}{r|llllllllll}\n",
       " Employee.Number & Date.of.Hire & Date.of.Termination & Department & Employee.Source & emp\\_status1 & emp\\_act1 & emp\\_status2 & emp\\_act2 & emp\\_left\\\\\n",
       "\\hline\n",
       "\t 1103024456             & 2008-10-27             & NA                     & Admin Offices          & Diversity Job Fair     &  TRUE                  & 1                      &  TRUE                  & 1                      & NA                    \\\\\n",
       "\t 1106026572             & 2014-01-06             & NA                     & Admin Offices          & Website Banner Ads     &  TRUE                  & 1                      &  TRUE                  & 1                      & NA                    \\\\\n",
       "\t 1302053333             & 2014-09-29             & NA                     & Admin Offices          & Internet Search        &  TRUE                  & 1                      &  TRUE                  & 1                      & NA                    \\\\\n",
       "\t 1211050782             & 2015-02-16             & 2015-04-15             & Admin Offices          & Pay Per Click - Google &  TRUE                  & 0                      & FALSE                  & 0                      &  1                    \\\\\n",
       "\t 1307059817             & 2015-05-01             & NA                     & Admin Offices          & Website Banner Ads     &  TRUE                  & 0                      &  TRUE                  & 1                      & NA                    \\\\\n",
       "\t  711007713             & 2011-09-26             & 2013-09-25             & Admin Offices          & Diversity Job Fair     & FALSE                  & 0                      & FALSE                  & 0                      &  0                    \\\\\n",
       "\\end{tabular}\n"
      ],
      "text/markdown": [
       "\n",
       "Employee.Number | Date.of.Hire | Date.of.Termination | Department | Employee.Source | emp_status1 | emp_act1 | emp_status2 | emp_act2 | emp_left | \n",
       "|---|---|---|---|---|---|\n",
       "| 1103024456             | 2008-10-27             | NA                     | Admin Offices          | Diversity Job Fair     |  TRUE                  | 1                      |  TRUE                  | 1                      | NA                     | \n",
       "| 1106026572             | 2014-01-06             | NA                     | Admin Offices          | Website Banner Ads     |  TRUE                  | 1                      |  TRUE                  | 1                      | NA                     | \n",
       "| 1302053333             | 2014-09-29             | NA                     | Admin Offices          | Internet Search        |  TRUE                  | 1                      |  TRUE                  | 1                      | NA                     | \n",
       "| 1211050782             | 2015-02-16             | 2015-04-15             | Admin Offices          | Pay Per Click - Google |  TRUE                  | 0                      | FALSE                  | 0                      |  1                     | \n",
       "| 1307059817             | 2015-05-01             | NA                     | Admin Offices          | Website Banner Ads     |  TRUE                  | 0                      |  TRUE                  | 1                      | NA                     | \n",
       "|  711007713             | 2011-09-26             | 2013-09-25             | Admin Offices          | Diversity Job Fair     | FALSE                  | 0                      | FALSE                  | 0                      |  0                     | \n",
       "\n",
       "\n"
      ],
      "text/plain": [
       "  Employee.Number Date.of.Hire Date.of.Termination Department   \n",
       "1 1103024456      2008-10-27   <NA>                Admin Offices\n",
       "2 1106026572      2014-01-06   <NA>                Admin Offices\n",
       "3 1302053333      2014-09-29   <NA>                Admin Offices\n",
       "4 1211050782      2015-02-16   2015-04-15          Admin Offices\n",
       "5 1307059817      2015-05-01   <NA>                Admin Offices\n",
       "6  711007713      2011-09-26   2013-09-25          Admin Offices\n",
       "  Employee.Source        emp_status1 emp_act1 emp_status2 emp_act2 emp_left\n",
       "1 Diversity Job Fair      TRUE       1         TRUE       1        NA      \n",
       "2 Website Banner Ads      TRUE       1         TRUE       1        NA      \n",
       "3 Internet Search         TRUE       1         TRUE       1        NA      \n",
       "4 Pay Per Click - Google  TRUE       0        FALSE       0         1      \n",
       "5 Website Banner Ads      TRUE       0         TRUE       1        NA      \n",
       "6 Diversity Job Fair     FALSE       0        FALSE       0         0      "
      ]
     },
     "metadata": {},
     "output_type": "display_data"
    }
   ],
   "source": [
    "# selecting the Employee.Number, Date.of.Hire, Date.of.Termination, Department, Employee.Source columns for analysis\n",
    "emp_data <- data %>%\n",
    "    select(Employee.Number, Date.of.Hire, Date.of.Termination, Department, Employee.Source)\n",
    "\n",
    "# Selecting a period for analysis of attrition\n",
    "# Attrition in 2015\n",
    "start_date <- as.Date(\"2015-01-01\", format = \"%Y-%m-%d\")\n",
    "end_date <- as.Date(\"2015-12-31\", format = \"%Y-%m-%d\")\n",
    "\n",
    "# using the emp_date dataframe we will now use mutate function to create employee status columns as on start_date and end_date\n",
    "\n",
    "emp_data_status <- emp_data %>%\n",
    "    mutate(\n",
    "            # Employee working status at start date\n",
    "            # Employee is working at start_date if his Date.of.Termination is > start_date or is NA\n",
    "            emp_status1 = ifelse(Date.of.Termination> (start_date)\n",
    "                                | is.na(Date.of.Termination), TRUE, FALSE),\n",
    "\n",
    "            # Employee is active at start date if he/she is hired before start date and is working at start date\n",
    "            emp_act1 = ifelse(Date.of.Hire <= (start_date) & emp_status1 == TRUE, 1, 0), \n",
    "\n",
    "            # Employee working status at end date\n",
    "            # Employee is working at end_date if his Date.of.Termination is > end_date or is NA\n",
    "            emp_status2 = ifelse(Date.of.Termination> (end_date)\n",
    "                                 | is.na(Date.of.Termination), TRUE, FALSE),\n",
    "\n",
    "            # Employee is active at end date if he/she is hired before end date and is working at end date\n",
    "            emp_act2 = ifelse(Date.of.Hire <= (end_date) & emp_status2 == TRUE, 1, 0),\n",
    "\n",
    "            # Employee left in the period\n",
    "            # Employee have left in the selected period if the Date.of.Termination falls between start_date and end_date\n",
    "            emp_left = ifelse(Date.of.Termination>= (start_date) & \n",
    "                                  Date.of.Termination<= (end_date), 1, 0))\n",
    "\n",
    "# Observe emp_data_status\n",
    "head(emp_data_status)"
   ]
  },
  {
   "cell_type": "code",
   "execution_count": 11,
   "metadata": {},
   "outputs": [
    {
     "data": {
      "text/html": [
       "<table>\n",
       "<thead><tr><th scope=col>Department</th><th scope=col>start_c</th><th scope=col>end_c</th><th scope=col>av_emp</th><th scope=col>emp_left_in_period</th><th scope=col>att_perc</th></tr></thead>\n",
       "<tbody>\n",
       "\t<tr><td>Admin Offices            </td><td>  5                      </td><td>  6                      </td><td>  5                      </td><td> 2                       </td><td>40.00000                 </td></tr>\n",
       "\t<tr><td>IT/IS                    </td><td> 19                      </td><td> 32                      </td><td> 19                      </td><td> 7                       </td><td>36.84211                 </td></tr>\n",
       "\t<tr><td>Software Engineering     </td><td>  7                      </td><td>  6                      </td><td>  7                      </td><td> 1                       </td><td>14.28571                 </td></tr>\n",
       "\t<tr><td>Production               </td><td>134                      </td><td>129                      </td><td>134                      </td><td>16                       </td><td>11.94030                 </td></tr>\n",
       "\t<tr><td>Sales                    </td><td> 25                      </td><td> 26                      </td><td> 25                      </td><td> 1                       </td><td> 4.00000                 </td></tr>\n",
       "\t<tr><td>Executive Office         </td><td>  1                      </td><td>  1                      </td><td>  1                      </td><td> 0                       </td><td> 0.00000                 </td></tr>\n",
       "\t<tr><td>Software Engineering     </td><td>  1                      </td><td>  1                      </td><td>  1                      </td><td> 0                       </td><td> 0.00000                 </td></tr>\n",
       "</tbody>\n",
       "</table>\n"
      ],
      "text/latex": [
       "\\begin{tabular}{r|llllll}\n",
       " Department & start\\_c & end\\_c & av\\_emp & emp\\_left\\_in\\_period & att\\_perc\\\\\n",
       "\\hline\n",
       "\t Admin Offices             &   5                       &   6                       &   5                       &  2                        & 40.00000                 \\\\\n",
       "\t IT/IS                     &  19                       &  32                       &  19                       &  7                        & 36.84211                 \\\\\n",
       "\t Software Engineering      &   7                       &   6                       &   7                       &  1                        & 14.28571                 \\\\\n",
       "\t Production                & 134                       & 129                       & 134                       & 16                        & 11.94030                 \\\\\n",
       "\t Sales                     &  25                       &  26                       &  25                       &  1                        &  4.00000                 \\\\\n",
       "\t Executive Office          &   1                       &   1                       &   1                       &  0                        &  0.00000                 \\\\\n",
       "\t Software Engineering      &   1                       &   1                       &   1                       &  0                        &  0.00000                 \\\\\n",
       "\\end{tabular}\n"
      ],
      "text/markdown": [
       "\n",
       "Department | start_c | end_c | av_emp | emp_left_in_period | att_perc | \n",
       "|---|---|---|---|---|---|---|\n",
       "| Admin Offices             |   5                       |   6                       |   5                       |  2                        | 40.00000                  | \n",
       "| IT/IS                     |  19                       |  32                       |  19                       |  7                        | 36.84211                  | \n",
       "| Software Engineering      |   7                       |   6                       |   7                       |  1                        | 14.28571                  | \n",
       "| Production                | 134                       | 129                       | 134                       | 16                        | 11.94030                  | \n",
       "| Sales                     |  25                       |  26                       |  25                       |  1                        |  4.00000                  | \n",
       "| Executive Office          |   1                       |   1                       |   1                       |  0                        |  0.00000                  | \n",
       "| Software Engineering      |   1                       |   1                       |   1                       |  0                        |  0.00000                  | \n",
       "\n",
       "\n"
      ],
      "text/plain": [
       "  Department                start_c end_c av_emp emp_left_in_period att_perc\n",
       "1 Admin Offices               5       6     5     2                 40.00000\n",
       "2 IT/IS                      19      32    19     7                 36.84211\n",
       "3 Software Engineering        7       6     7     1                 14.28571\n",
       "4 Production                134     129   134    16                 11.94030\n",
       "5 Sales                      25      26    25     1                  4.00000\n",
       "6 Executive Office            1       1     1     0                  0.00000\n",
       "7 Software Engineering        1       1     1     0                  0.00000"
      ]
     },
     "metadata": {},
     "output_type": "display_data"
    }
   ],
   "source": [
    "# Calculating attrition by Department\n",
    "emp_data_Department <- emp_data_status %>%\n",
    "     group_by(Department) %>%\n",
    "                summarise(start_c = sum(emp_act1, na.rm = TRUE),\n",
    "                          end_c = sum(emp_act2, na.rm = TRUE),\n",
    "                          av_emp = mean(sum(emp_act1, na.rm = TRUE), sum(emp_act2, na.rm = TRUE)),\n",
    "                          emp_left_in_period = sum(emp_left, na.rm=TRUE),              \n",
    "                          att_perc = emp_left_in_period/av_emp*100) %>%\n",
    "                filter(av_emp >0) %>%\n",
    "                arrange(desc(att_perc))\n",
    "\n",
    "# observe the results\n",
    "emp_data_Department"
   ]
  },
  {
   "cell_type": "code",
   "execution_count": 12,
   "metadata": {},
   "outputs": [
    {
     "data": {},
     "metadata": {},
     "output_type": "display_data"
    },
    {
     "data": {
      "image/png": "[encoded data removed]",
      "text/plain": [
       "plot without title"
      ]
     },
     "metadata": {},
     "output_type": "display_data"
    }
   ],
   "source": [
    "# Plotting bar charts\n",
    "emp_data_Department <- emp_data_Department %>%\n",
    "    mutate(Department = as.factor(Department)) %>%\n",
    "    mutate(Department = fct_reorder(Department, att_perc)) %>%\n",
    "    filter(att_perc>0)\n",
    "\n",
    "ggplot(emp_data_Department, aes(x=Department, y=att_perc)) +\n",
    "    geom_col(fill=\"blue\") +\n",
    "    ylab(\"Attrition percentage\") +\n",
    "    coord_flip()"
   ]
  },
  {
   "cell_type": "code",
   "execution_count": 13,
   "metadata": {},
   "outputs": [
    {
     "data": {
      "text/html": [
       "<table>\n",
       "<thead><tr><th scope=col>Employee.Source</th><th scope=col>start_c</th><th scope=col>end_c</th><th scope=col>av_emp</th><th scope=col>emp_left_in_period</th><th scope=col>att_perc</th></tr></thead>\n",
       "<tbody>\n",
       "\t<tr><td>Diversity Job Fair                    </td><td>18                                    </td><td>12                                    </td><td>18                                    </td><td>7                                     </td><td>38.888889                             </td></tr>\n",
       "\t<tr><td>Monster.com                           </td><td>16                                    </td><td>14                                    </td><td>16                                    </td><td>5                                     </td><td>31.250000                             </td></tr>\n",
       "\t<tr><td>Search Engine - Google Bing Yahoo     </td><td>14                                    </td><td>10                                    </td><td>14                                    </td><td>4                                     </td><td>28.571429                             </td></tr>\n",
       "\t<tr><td>Vendor Referral                       </td><td> 8                                    </td><td> 9                                    </td><td> 8                                    </td><td>2                                     </td><td>25.000000                             </td></tr>\n",
       "\t<tr><td>Other                                 </td><td> 6                                    </td><td> 6                                    </td><td> 6                                    </td><td>1                                     </td><td>16.666667                             </td></tr>\n",
       "\t<tr><td>Glassdoor                             </td><td> 7                                    </td><td>10                                    </td><td> 7                                    </td><td>1                                     </td><td>14.285714                             </td></tr>\n",
       "\t<tr><td>MBTA ads                              </td><td>15                                    </td><td>13                                    </td><td>15                                    </td><td>2                                     </td><td>13.333333                             </td></tr>\n",
       "\t<tr><td>Website Banner Ads                    </td><td> 9                                    </td><td>11                                    </td><td> 9                                    </td><td>1                                     </td><td>11.111111                             </td></tr>\n",
       "\t<tr><td>Employee Referral                     </td><td>19                                    </td><td>27                                    </td><td>19                                    </td><td>2                                     </td><td>10.526316                             </td></tr>\n",
       "\t<tr><td>Billboard                             </td><td>11                                    </td><td>11                                    </td><td>11                                    </td><td>1                                     </td><td> 9.090909                             </td></tr>\n",
       "\t<tr><td>Pay Per Click - Google                </td><td>14                                    </td><td>16                                    </td><td>14                                    </td><td>1                                     </td><td> 7.142857                             </td></tr>\n",
       "\t<tr><td>Careerbuilder                         </td><td> 1                                    </td><td> 1                                    </td><td> 1                                    </td><td>0                                     </td><td> 0.000000                             </td></tr>\n",
       "\t<tr><td>Information Session                   </td><td> 3                                    </td><td> 4                                    </td><td> 3                                    </td><td>0                                     </td><td> 0.000000                             </td></tr>\n",
       "\t<tr><td>Internet Search                       </td><td> 5                                    </td><td> 5                                    </td><td> 5                                    </td><td>0                                     </td><td> 0.000000                             </td></tr>\n",
       "\t<tr><td>Newspager/Magazine                    </td><td>10                                    </td><td>12                                    </td><td>10                                    </td><td>0                                     </td><td> 0.000000                             </td></tr>\n",
       "\t<tr><td>On-campus Recruiting                  </td><td>10                                    </td><td>10                                    </td><td>10                                    </td><td>0                                     </td><td> 0.000000                             </td></tr>\n",
       "\t<tr><td>Professional Society                  </td><td>17                                    </td><td>19                                    </td><td>17                                    </td><td>0                                     </td><td> 0.000000                             </td></tr>\n",
       "\t<tr><td>Social Networks - Facebook Twitter etc</td><td> 4                                    </td><td> 4                                    </td><td> 4                                    </td><td>0                                     </td><td> 0.000000                             </td></tr>\n",
       "\t<tr><td>Word of Mouth                         </td><td> 5                                    </td><td> 6                                    </td><td> 5                                    </td><td>0                                     </td><td> 0.000000                             </td></tr>\n",
       "</tbody>\n",
       "</table>\n"
      ],
      "text/latex": [
       "\\begin{tabular}{r|llllll}\n",
       " Employee.Source & start\\_c & end\\_c & av\\_emp & emp\\_left\\_in\\_period & att\\_perc\\\\\n",
       "\\hline\n",
       "\t Diversity Job Fair                     & 18                                     & 12                                     & 18                                     & 7                                      & 38.888889                             \\\\\n",
       "\t Monster.com                            & 16                                     & 14                                     & 16                                     & 5                                      & 31.250000                             \\\\\n",
       "\t Search Engine - Google Bing Yahoo      & 14                                     & 10                                     & 14                                     & 4                                      & 28.571429                             \\\\\n",
       "\t Vendor Referral                        &  8                                     &  9                                     &  8                                     & 2                                      & 25.000000                             \\\\\n",
       "\t Other                                  &  6                                     &  6                                     &  6                                     & 1                                      & 16.666667                             \\\\\n",
       "\t Glassdoor                              &  7                                     & 10                                     &  7                                     & 1                                      & 14.285714                             \\\\\n",
       "\t MBTA ads                               & 15                                     & 13                                     & 15                                     & 2                                      & 13.333333                             \\\\\n",
       "\t Website Banner Ads                     &  9                                     & 11                                     &  9                                     & 1                                      & 11.111111                             \\\\\n",
       "\t Employee Referral                      & 19                                     & 27                                     & 19                                     & 2                                      & 10.526316                             \\\\\n",
       "\t Billboard                              & 11                                     & 11                                     & 11                                     & 1                                      &  9.090909                             \\\\\n",
       "\t Pay Per Click - Google                 & 14                                     & 16                                     & 14                                     & 1                                      &  7.142857                             \\\\\n",
       "\t Careerbuilder                          &  1                                     &  1                                     &  1                                     & 0                                      &  0.000000                             \\\\\n",
       "\t Information Session                    &  3                                     &  4                                     &  3                                     & 0                                      &  0.000000                             \\\\\n",
       "\t Internet Search                        &  5                                     &  5                                     &  5                                     & 0                                      &  0.000000                             \\\\\n",
       "\t Newspager/Magazine                     & 10                                     & 12                                     & 10                                     & 0                                      &  0.000000                             \\\\\n",
       "\t On-campus Recruiting                   & 10                                     & 10                                     & 10                                     & 0                                      &  0.000000                             \\\\\n",
       "\t Professional Society                   & 17                                     & 19                                     & 17                                     & 0                                      &  0.000000                             \\\\\n",
       "\t Social Networks - Facebook Twitter etc &  4                                     &  4                                     &  4                                     & 0                                      &  0.000000                             \\\\\n",
       "\t Word of Mouth                          &  5                                     &  6                                     &  5                                     & 0                                      &  0.000000                             \\\\\n",
       "\\end{tabular}\n"
      ],
      "text/markdown": [
       "\n",
       "Employee.Source | start_c | end_c | av_emp | emp_left_in_period | att_perc | \n",
       "|---|---|---|---|---|---|---|---|---|---|---|---|---|---|---|---|---|---|---|\n",
       "| Diversity Job Fair                     | 18                                     | 12                                     | 18                                     | 7                                      | 38.888889                              | \n",
       "| Monster.com                            | 16                                     | 14                                     | 16                                     | 5                                      | 31.250000                              | \n",
       "| Search Engine - Google Bing Yahoo      | 14                                     | 10                                     | 14                                     | 4                                      | 28.571429                              | \n",
       "| Vendor Referral                        |  8                                     |  9                                     |  8                                     | 2                                      | 25.000000                              | \n",
       "| Other                                  |  6                                     |  6                                     |  6                                     | 1                                      | 16.666667                              | \n",
       "| Glassdoor                              |  7                                     | 10                                     |  7                                     | 1                                      | 14.285714                              | \n",
       "| MBTA ads                               | 15                                     | 13                                     | 15                                     | 2                                      | 13.333333                              | \n",
       "| Website Banner Ads                     |  9                                     | 11                                     |  9                                     | 1                                      | 11.111111                              | \n",
       "| Employee Referral                      | 19                                     | 27                                     | 19                                     | 2                                      | 10.526316                              | \n",
       "| Billboard                              | 11                                     | 11                                     | 11                                     | 1                                      |  9.090909                              | \n",
       "| Pay Per Click - Google                 | 14                                     | 16                                     | 14                                     | 1                                      |  7.142857                              | \n",
       "| Careerbuilder                          |  1                                     |  1                                     |  1                                     | 0                                      |  0.000000                              | \n",
       "| Information Session                    |  3                                     |  4                                     |  3                                     | 0                                      |  0.000000                              | \n",
       "| Internet Search                        |  5                                     |  5                                     |  5                                     | 0                                      |  0.000000                              | \n",
       "| Newspager/Magazine                     | 10                                     | 12                                     | 10                                     | 0                                      |  0.000000                              | \n",
       "| On-campus Recruiting                   | 10                                     | 10                                     | 10                                     | 0                                      |  0.000000                              | \n",
       "| Professional Society                   | 17                                     | 19                                     | 17                                     | 0                                      |  0.000000                              | \n",
       "| Social Networks - Facebook Twitter etc |  4                                     |  4                                     |  4                                     | 0                                      |  0.000000                              | \n",
       "| Word of Mouth                          |  5                                     |  6                                     |  5                                     | 0                                      |  0.000000                              | \n",
       "\n",
       "\n"
      ],
      "text/plain": [
       "   Employee.Source                        start_c end_c av_emp\n",
       "1  Diversity Job Fair                     18      12    18    \n",
       "2  Monster.com                            16      14    16    \n",
       "3  Search Engine - Google Bing Yahoo      14      10    14    \n",
       "4  Vendor Referral                         8       9     8    \n",
       "5  Other                                   6       6     6    \n",
       "6  Glassdoor                               7      10     7    \n",
       "7  MBTA ads                               15      13    15    \n",
       "8  Website Banner Ads                      9      11     9    \n",
       "9  Employee Referral                      19      27    19    \n",
       "10 Billboard                              11      11    11    \n",
       "11 Pay Per Click - Google                 14      16    14    \n",
       "12 Careerbuilder                           1       1     1    \n",
       "13 Information Session                     3       4     3    \n",
       "14 Internet Search                         5       5     5    \n",
       "15 Newspager/Magazine                     10      12    10    \n",
       "16 On-campus Recruiting                   10      10    10    \n",
       "17 Professional Society                   17      19    17    \n",
       "18 Social Networks - Facebook Twitter etc  4       4     4    \n",
       "19 Word of Mouth                           5       6     5    \n",
       "   emp_left_in_period att_perc \n",
       "1  7                  38.888889\n",
       "2  5                  31.250000\n",
       "3  4                  28.571429\n",
       "4  2                  25.000000\n",
       "5  1                  16.666667\n",
       "6  1                  14.285714\n",
       "7  2                  13.333333\n",
       "8  1                  11.111111\n",
       "9  2                  10.526316\n",
       "10 1                   9.090909\n",
       "11 1                   7.142857\n",
       "12 0                   0.000000\n",
       "13 0                   0.000000\n",
       "14 0                   0.000000\n",
       "15 0                   0.000000\n",
       "16 0                   0.000000\n",
       "17 0                   0.000000\n",
       "18 0                   0.000000\n",
       "19 0                   0.000000"
      ]
     },
     "metadata": {},
     "output_type": "display_data"
    }
   ],
   "source": [
    "# Calculating attrition by Employee Source\n",
    "emp_data_EmpSource <- emp_data_status %>%\n",
    "     group_by(Employee.Source) %>%\n",
    "                summarise(start_c = sum(emp_act1, na.rm = TRUE),\n",
    "                          end_c = sum(emp_act2, na.rm = TRUE),\n",
    "                          av_emp = mean(sum(emp_act1, na.rm = TRUE), sum(emp_act2, na.rm = TRUE)),\n",
    "                          emp_left_in_period = sum(emp_left, na.rm=TRUE),              \n",
    "                          att_perc = emp_left_in_period/av_emp*100) %>%\n",
    "                filter(av_emp >0) %>%\n",
    "                arrange(desc(att_perc))\n",
    "\n",
    "# observe the results\n",
    "emp_data_EmpSource"
   ]
  },
  {
   "cell_type": "code",
   "execution_count": 14,
   "metadata": {
    "scrolled": true
   },
   "outputs": [
    {
     "data": {},
     "metadata": {},
     "output_type": "display_data"
    },
    {
     "data": {
      "image/png": "[encoded data removed]",
      "text/plain": [
       "plot without title"
      ]
     },
     "metadata": {},
     "output_type": "display_data"
    }
   ],
   "source": [
    "# Plotting bar charts\n",
    "emp_data_EmpSource <- emp_data_EmpSource %>%\n",
    "    mutate(Employee.Source = as.factor(Employee.Source)) %>%\n",
    "    mutate(Employee.Source = fct_reorder(Employee.Source, att_perc)) %>%\n",
    "    filter(att_perc>0)\n",
    "\n",
    "ggplot(emp_data_EmpSource, aes(x=Employee.Source, y=att_perc)) +\n",
    "    geom_col(fill=\"blue\") +\n",
    "    ylab(\"Attrition percentage\") +\n",
    "    coord_flip()"
   ]
  },
  {
   "cell_type": "markdown",
   "metadata": {},
   "source": [
    "### Attrition by Month in 2015\n",
    "Create a dataframe with Month, Year and start date and end date for each month in year 2015."
   ]
  },
  {
   "cell_type": "code",
   "execution_count": 15,
   "metadata": {},
   "outputs": [],
   "source": [
    "month_2015 <- data.frame(\n",
    "                Month = c(\"Jan\", \"Feb\", \"Mar\", \"Apr\", \"May\", \"June\", \"July\", \"Aug\", \"Sep\", \"Oct\", \"Nov\", \"Dec\"),\n",
    "                Year = 2015,\n",
    "                start_date =  as.Date(c(\"2015-01-01\", \"2015-02-01\", \"2015-03-01\", \"2015-04-01\", \"2015-05-01\", \n",
    "                                       \"2015-06-01\", \"2015-07-01\", \"2015-08-01\", \"2015-09-01\", \"2015-10-01\",\n",
    "                                       \"2015-11-01\", \"2015-12-01\"), format = \"%Y-%m-%d\"),\n",
    "                end_date =  as.Date(c(\"2015-01-31\", \"2015-02-28\", \"2015-03-31\", \"2015-04-30\", \"2015-05-31\", \n",
    "                                       \"2015-06-30\", \"2015-07-31\", \"2015-08-31\", \"2015-09-30\", \"2015-10-31\",\n",
    "                                       \"2015-11-30\", \"2015-12-31\"), format = \"%Y-%m-%d\"))\n",
    "\n",
    "\n"
   ]
  },
  {
   "cell_type": "code",
   "execution_count": 16,
   "metadata": {},
   "outputs": [],
   "source": [
    "for (i in 1:12) {\n",
    "    start_date <- month_2015$start_date[i]\n",
    "    end_date <- month_2015$end_date[i]\n",
    "    \n",
    "    emp_data_status <- emp_data %>%\n",
    "    mutate(\n",
    "            # Employee working status at start date\n",
    "            # Employee is working at start_date if his Date.of.Termination is > start_date or is NA\n",
    "            emp_status1 = ifelse(Date.of.Termination> (start_date)\n",
    "                                | is.na(Date.of.Termination), TRUE, FALSE),\n",
    "\n",
    "            # Employee active at start date if he/she is hired before start date and is working at start date\n",
    "            emp_act1 = ifelse(Date.of.Hire <= (start_date) & emp_status1 == TRUE, 1, 0), \n",
    "\n",
    "            # Employee working status at end date\n",
    "            # Employee is working at end_date if his Date.of.Termination is > end_date or is NA\n",
    "            emp_status2 = ifelse(Date.of.Termination> (end_date)\n",
    "                                 | is.na(Date.of.Termination), TRUE, FALSE),\n",
    "\n",
    "            # Employee active at end date if he/she is hired before end date and is working at end date\n",
    "            emp_act2 = ifelse(Date.of.Hire <= (end_date) & emp_status2 == TRUE, 1, 0),\n",
    "\n",
    "            # Employee left in the period\n",
    "            # Employee have left in the selected period if the Date.of.Termination falls between start_date and end_date\n",
    "            emp_left = ifelse(Date.of.Termination>= (start_date) & \n",
    "                                  Date.of.Termination<= (end_date), 1, 0))\n",
    "            \n",
    "        month_2015$start_c[i] = sum(emp_data_status$emp_act1, na.rm = TRUE)\n",
    "\n",
    "        month_2015$end_c[i] = sum(emp_data_status$emp_act2, na.rm = TRUE)\n",
    "\n",
    "        month_2015$emp_left_in_period[i] = sum(emp_data_status$emp_left, na.rm=TRUE)            \n",
    "\n",
    "        \n",
    "}"
   ]
  },
  {
   "cell_type": "code",
   "execution_count": 17,
   "metadata": {},
   "outputs": [],
   "source": [
    "month_att <- month_2015 %>%\n",
    "    mutate(\n",
    "        emp_joined = end_c + emp_left_in_period - start_c,\n",
    "        av_emp = (start_c + end_c)/2,\n",
    "        att_perc = round(emp_left_in_period/av_emp*100, digits=2))"
   ]
  },
  {
   "cell_type": "code",
   "execution_count": 18,
   "metadata": {},
   "outputs": [
    {
     "data": {},
     "metadata": {},
     "output_type": "display_data"
    },
    {
     "data": {
      "image/png": "[encoded data removed]",
      "text/plain": [
       "plot without title"
      ]
     },
     "metadata": {},
     "output_type": "display_data"
    }
   ],
   "source": [
    "month_att2 <- month_att %>%\n",
    "    mutate(Month = fct_relevel(Month, \"Jan\", \"Feb\", \"Mar\", \"Apr\", \"May\", \"June\", \"July\", \"Aug\", \"Sep\", \"Oct\", \"Nov\", \"Dec\"))\n",
    "\n",
    "ggplot(month_att2, aes(x=Month, y=att_perc)) +\n",
    "    geom_col(fill=\"red\") +\n",
    "    xlab(\"Months in 2015\") +\n",
    "    ylab(\"Attrition percentage\")"
   ]
  }
 ],
 "metadata": {
  "kernelspec": {
   "display_name": "R",
   "language": "R",
   "name": "ir"
  },
  "language_info": {
   "codemirror_mode": "r",
   "file_extension": ".r",
   "mimetype": "text/x-r-source",
   "name": "R",
   "pygments_lexer": "r",
   "version": "3.5.1"
  }
 },
 "nbformat": 4,
 "nbformat_minor": 2
}
